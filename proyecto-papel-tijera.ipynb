{
 "cells": [
  {
   "cell_type": "code",
   "execution_count": null,
   "metadata": {},
   "outputs": [],
   "source": [
    "# Nuevo cambio para subir a github\n",
    "import random\n",
    "\n",
    "opciones = ['piedra', 'papel', 'tijera']\n",
    "\n",
    "puntos_objetivo = 3 "
   ]
  },
  {
   "cell_type": "code",
   "execution_count": 3,
   "metadata": {},
   "outputs": [],
   "source": [
    "def eleccion_jugador():\n",
    "    eleccion = input(\"Elige: piedra, papel o tijera: \")\n",
    "    while eleccion not in opciones:\n",
    "        print(\"Opción no válida, intenta de nuevo.\")\n",
    "        eleccion = input(\"Elige: piedra, papel o tijera: \")\n",
    "    return eleccion"
   ]
  },
  {
   "cell_type": "code",
   "execution_count": 1,
   "metadata": {},
   "outputs": [
    {
     "name": "stdout",
     "output_type": "stream",
     "text": [
      "Bienvenido a piedra, papel o tijera. El primero en llegar a 3 puntos gana.\n"
     ]
    }
   ],
   "source": [
    "print(\"Bienvenido a piedra, papel o tijera. El primero en llegar a 3 puntos gana.\")"
   ]
  },
  {
   "cell_type": "code",
   "execution_count": 4,
   "metadata": {},
   "outputs": [
    {
     "data": {
      "text/plain": [
       "'piedra'"
      ]
     },
     "execution_count": 4,
     "metadata": {},
     "output_type": "execute_result"
    }
   ],
   "source": [
    "eleccion_jugador()"
   ]
  },
  {
   "cell_type": "code",
   "execution_count": 5,
   "metadata": {},
   "outputs": [],
   "source": [
    "def eleccion_computadora():\n",
    "    eleccion = random.choice(opciones)\n",
    "    print(\"Computadora eligió: \" + eleccion)\n",
    "    return eleccion"
   ]
  },
  {
   "cell_type": "code",
   "execution_count": 6,
   "metadata": {},
   "outputs": [
    {
     "name": "stdout",
     "output_type": "stream",
     "text": [
      "Computadora eligió: papel\n"
     ]
    },
    {
     "data": {
      "text/plain": [
       "'papel'"
      ]
     },
     "execution_count": 6,
     "metadata": {},
     "output_type": "execute_result"
    }
   ],
   "source": [
    "eleccion_computadora()"
   ]
  },
  {
   "cell_type": "code",
   "execution_count": 7,
   "metadata": {},
   "outputs": [],
   "source": [
    "def determinar_ganador(jugador, computadora):\n",
    "    if jugador == computadora:\n",
    "        return \"Empate\"\n",
    "    elif (jugador == \"piedra\" and computadora == \"tijera\") or \\\n",
    "         (jugador == \"tijera\" and computadora == \"papel\") or \\\n",
    "         (jugador == \"papel\" and computadora == \"piedra\"):\n",
    "        return \"Jugador\"\n",
    "    else:\n",
    "        return \"Computadora\"\n"
   ]
  },
  {
   "cell_type": "code",
   "execution_count": 8,
   "metadata": {},
   "outputs": [],
   "source": [
    "def mostrar_instrucciones():\n",
    "    print(\"Bienvenido al juego, piedra, papel o tijera\")\n",
    "    print(\"\\n INSTRUCCIONES DEL JUEGO\")\n",
    "    print(\"1. Elige entre piedra, papel o tijera.\")\n",
    "    print(\"2. La computadora elegirá aleatoriamente.\")\n",
    "    print(\"3. Piedra vence a tijera, tijera vence a papel, papel vence a piedra.\")\n",
    "    print(\"4. Si ganas una ronda, sumas 1 punto. Lo mismo para la computadora.\")\n",
    "    print(\"5. El primer jugador en llegar a 3 puntos gana el juego.\")\n",
    "    print(\"¡Buena suerte!\\n\")\n",
    "       "
   ]
  },
  {
   "cell_type": "code",
   "execution_count": null,
   "metadata": {},
   "outputs": [],
   "source": [
    "def jugar():\n",
    "    mostrar_instrucciones()\n",
    "    puntos_jugador = 0\n",
    "    puntos_computadora = 0\n",
    "   \n",
    "    while puntos_jugador < puntos_objetivo and puntos_computadora < puntos_objetivo:\n",
    "        jugar_ronda = input(\"\\n ¿Quieres jugar una ronda? (s/n): \")\n",
    "        if jugar_ronda != 's':\n",
    "            print(\"Juego terminado. ¡Hasta la próxima!\")\n",
    "            break\n",
    "        print (\"\\nNueva Ronda\")\n",
    "\n",
    "        jugador = eleccion_jugador()\n",
    "        computadora = eleccion_computadora()\n",
    "        print(f\"Jugador elige: {jugador}\")\n",
    "        ganador = determinar_ganador(jugador, computadora)\n",
    "        \n",
    "        if ganador == \"Jugador\":\n",
    "            puntos_jugador += 1\n",
    "            print(\"¡Ganaste esta ronda!\")\n",
    "        elif ganador == \"Computadora\":\n",
    "            puntos_computadora += 1\n",
    "            print(\"¡La computadora gana esta ronda!\")\n",
    "        else:\n",
    "            print(\"¡Es un empate!\")\n",
    "        print(\"Puntos - Jugador:\", puntos_jugador, \", Computadora:\", puntos_computadora)\n",
    "        \n",
    "    if puntos_jugador == puntos_objetivo:\n",
    "        print('¡Alcanzaste 3 puntos, ganaste el juego!')\n",
    "    else:\n",
    "        puntos_computadora == puntos_objetivo\n",
    "        print (\"\\n¡La computadora ha ganado el juego!\") "
   ]
  },
  {
   "cell_type": "code",
   "execution_count": null,
   "metadata": {},
   "outputs": [
    {
     "name": "stdout",
     "output_type": "stream",
     "text": [
      "Bienvenido al juego, piedra, papel o tijera\n",
      "\n",
      " INSTRUCCIONES DEL JUEGO\n",
      "1. Elige entre piedra, papel o tijera.\n",
      "2. La computadora elegirá aleatoriamente.\n",
      "3. Piedra vence a tijera, tijera vence a papel, papel vence a piedra.\n",
      "4. Si ganas una ronda, sumas 1 punto. Lo mismo para la computadora.\n",
      "5. El primer jugador en llegar a 3 puntos gana el juego.\n",
      "¡Buena suerte!\n",
      "\n",
      "\n",
      "Nueva Ronda\n",
      "Computadora eligió: papel\n",
      "Jugador elige: piedra\n",
      "¡La computadora gana esta ronda!\n",
      "Puntos - Jugador: 0 , Computadora: 1\n",
      "Juego terminado. ¡Hasta la próxima!\n",
      "\n",
      "¡La computadora ha ganado el juego!\n"
     ]
    }
   ],
   "source": [
    "jugar () "
   ]
  },
  {
   "cell_type": "code",
   "execution_count": null,
   "metadata": {},
   "outputs": [],
   "source": []
  },
  {
   "cell_type": "markdown",
   "metadata": {},
   "source": [
    "Reglas del Juego \"Piedra, Papel y Tijera\":\n",
    "\n",
    "    - Dos jugadores eligen una de las tres opciones: \"Piedra\", \"Papel\" o \"Tijera\".\n",
    "\n",
    "    - Las reglas para determinar al ganador son:\n",
    "        \n",
    "        - Piedra vence a Tijera.\n",
    "\n",
    "        - Tijera vence a Papel.\n",
    "\n",
    "        - Papel vence a Piedra.\n",
    "\n",
    "        - El jugador que gana una ronda obtiene un punto.\n",
    "        \n",
    "        - El juego continúa hasta que un jugador haya acumulado 3 puntos, convirtiéndose en el ganador.\n",
    "\n",
    "\n",
    "- Pistas para las alumnas:\n",
    "\n",
    "    1. Comienza por definir el número de puntos objetivo que se deben alcanzar para ganar el juego.\n",
    "\n",
    "    2. Implementa una función que obtenga la elección del jugador y valide que sea una de las opciones válidas (\"Piedra\", \"Papel\" o \"Tijera\").\n",
    "\n",
    "    3. Utiliza un bucle `while` para llevar un registro de los puntos de cada jugador y continuar el juego hasta que se alcance el número de puntos objetivo.\n",
    "\n",
    "    4. Genera una elección aleatoria para el segundo jugador (la computadora) utilizando el módulo `random`.\n",
    "\n",
    "    5. Determina al ganador de cada ronda y actualiza los puntos correspondientes.\n",
    "\n",
    "    6. Verifica si algún jugador ha alcanzado el número de puntos objetivo y finalicen el juego cuando eso suceda."
   ]
  }
 ],
 "metadata": {
  "kernelspec": {
   "display_name": "base",
   "language": "python",
   "name": "python3"
  },
  "language_info": {
   "codemirror_mode": {
    "name": "ipython",
    "version": 3
   },
   "file_extension": ".py",
   "mimetype": "text/x-python",
   "name": "python",
   "nbconvert_exporter": "python",
   "pygments_lexer": "ipython3",
   "version": "3.12.7"
  }
 },
 "nbformat": 4,
 "nbformat_minor": 2
}
