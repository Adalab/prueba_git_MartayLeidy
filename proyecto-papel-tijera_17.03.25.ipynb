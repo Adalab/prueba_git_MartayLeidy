{
 "cells": [
  {
   "cell_type": "code",
   "execution_count": null,
   "metadata": {},
   "outputs": [],
   "source": [
    "import random # random para la elección aleatória de la computadora\n",
    "\n",
    "opciones = ['piedra', 'papel', 'tijera', 's'] # opciones del juego incluyendo el ssalir del  juego\n",
    "\n",
    "opciones_validas = ['piedra', 'papel', 'tijera']\n",
    "\n",
    "puntos_objetivo = 3 # definición de puntos objetivos del juego"
   ]
  },
  {
   "cell_type": "code",
   "execution_count": 36,
   "metadata": {},
   "outputs": [],
   "source": [
    "def eleccion_jugador(): # obtener la elección del jugador y validar opciones\n",
    "    eleccion = input(\"Elige: piedra, papel o tijera (o presiona 's'para salir): \")\n",
    "    while eleccion not in opciones:\n",
    "        print(\"\\n Opción no válida, intenta de nuevo.\")\n",
    "        eleccion = input(\"Elige: piedra, papel o tijera (o presiona 's'para salir): \")\n",
    "    return eleccion "
   ]
  },
  {
   "cell_type": "code",
   "execution_count": 37,
   "metadata": {},
   "outputs": [
    {
     "data": {
      "text/plain": [
       "'piedra'"
      ]
     },
     "execution_count": 37,
     "metadata": {},
     "output_type": "execute_result"
    }
   ],
   "source": [
    "eleccion_jugador() # llamada a la funcion jugador"
   ]
  },
  {
   "cell_type": "code",
   "execution_count": 38,
   "metadata": {},
   "outputs": [],
   "source": [
    "def eleccion_computadora(): # obtener la elección aleatória de la computadora con uso de random\n",
    "    eleccion = random.choice(opciones_validas)\n",
    "    print(\"\\nComputadora eligió: \" + eleccion)\n",
    "    return eleccion"
   ]
  },
  {
   "cell_type": "code",
   "execution_count": 39,
   "metadata": {},
   "outputs": [
    {
     "name": "stdout",
     "output_type": "stream",
     "text": [
      "\n",
      "Computadora eligió: piedra\n"
     ]
    },
    {
     "data": {
      "text/plain": [
       "'piedra'"
      ]
     },
     "execution_count": 39,
     "metadata": {},
     "output_type": "execute_result"
    }
   ],
   "source": [
    "eleccion_computadora() # llamada a la funcion computadora"
   ]
  },
  {
   "cell_type": "code",
   "execution_count": 40,
   "metadata": {},
   "outputs": [],
   "source": [
    "def determinar_ganador(jugador, computadora): # determina las reglas del juego\n",
    "    if jugador == computadora:\n",
    "        return \"Empate\"\n",
    "    elif (jugador == \"piedra\" and computadora == \"tijera\") or \\\n",
    "         (jugador == \"tijera\" and computadora == \"papel\") or \\\n",
    "         (jugador == \"papel\" and computadora == \"piedra\"):\n",
    "        return \"Jugador\"\n",
    "    else:\n",
    "        return \"Computadora\"\n"
   ]
  },
  {
   "cell_type": "code",
   "execution_count": 41,
   "metadata": {},
   "outputs": [],
   "source": [
    "def mostrar_instrucciones(): # instrucciones de juego\n",
    "    print(\"Bienvenido al juego, piedra, papel o tijera\")\n",
    "    print(\"\\n INSTRUCCIONES DEL JUEGO\")\n",
    "    print(\"1. Elige entre piedra, papel o tijera.\")\n",
    "    print(\"2. La computadora elegirá aleatoriamente.\")\n",
    "    print(\"3. Piedra vence a tijera, tijera vence a papel, papel vence a piedra.\")\n",
    "    print(\"4. Si ganas una ronda, sumas 1 punto. Lo mismo para la computadora.\")\n",
    "    print(\"5. El primer jugador en llegar a 3 puntos gana el juego.\")\n",
    "    print(\"6. Si quieres abandonar el juego pulsa 's'.\")\n",
    "    print(\"¡Buena suerte!\\n\")\n",
    "       "
   ]
  },
  {
   "cell_type": "code",
   "execution_count": 42,
   "metadata": {},
   "outputs": [],
   "source": [
    "def jugar(): # función del juego \n",
    "    mostrar_instrucciones()\n",
    "    puntos_jugador = 0\n",
    "    puntos_computadora = 0\n",
    "   \n",
    "    while puntos_jugador < puntos_objetivo and puntos_computadora < puntos_objetivo:\n",
    "        jugador = eleccion_jugador()\n",
    "        if jugador.lower() == 's':\n",
    "            print('¡Juego terminado! Hasta la próxima.')\n",
    "            break\n",
    "        \n",
    "        computadora = eleccion_computadora()\n",
    "        print(f\"Jugador elige: {jugador}\")\n",
    "\n",
    "        ganador = determinar_ganador(jugador, computadora)\n",
    "        \n",
    "        if ganador == \"Jugador\": # definición de puntos por ronda del jugador\n",
    "            puntos_jugador += 1\n",
    "            print(\"¡Ganaste esta ronda!\")\n",
    "        elif ganador == \"Computadora\": # definición de puntos por ronda de la computadora\n",
    "            puntos_computadora += 1\n",
    "            print(\"¡La computadora gana esta ronda!\")\n",
    "        else:\n",
    "            print(\"¡Es un empate!\")\n",
    "        print(\"Puntos - Jugador: \" + str(puntos_jugador) + \" | Computadora: \" + str(puntos_computadora) + \"\\n\")\n",
    "        \n",
    "    if puntos_jugador == puntos_objetivo:\n",
    "       print('¡Alcanzaste 3 puntos, ganaste el juego!')\n",
    "    elif puntos_computadora == puntos_objetivo:\n",
    "        print (\"La computadora gana el juego!\")\n",
    "    else:\n",
    "        print (\"¡GAME OVER!\")"
   ]
  },
  {
   "cell_type": "code",
   "execution_count": 44,
   "metadata": {},
   "outputs": [
    {
     "name": "stdout",
     "output_type": "stream",
     "text": [
      "Bienvenido al juego, piedra, papel o tijera\n",
      "\n",
      " INSTRUCCIONES DEL JUEGO\n",
      "1. Elige entre piedra, papel o tijera.\n",
      "2. La computadora elegirá aleatoriamente.\n",
      "3. Piedra vence a tijera, tijera vence a papel, papel vence a piedra.\n",
      "4. Si ganas una ronda, sumas 1 punto. Lo mismo para la computadora.\n",
      "5. El primer jugador en llegar a 3 puntos gana el juego.\n",
      "6. Si quieres abandonar el juego pulsa 's'.\n",
      "¡Buena suerte!\n",
      "\n",
      "\n",
      "Computadora eligió: papel\n",
      "Jugador elige: papel\n",
      "¡Es un empate!\n",
      "Puntos - Jugador: 0 | Computadora: 0\n",
      "\n",
      "\n",
      "Computadora eligió: piedra\n",
      "Jugador elige: tijera\n",
      "¡La computadora gana esta ronda!\n",
      "Puntos - Jugador: 0 | Computadora: 1\n",
      "\n",
      "\n",
      "Computadora eligió: tijera\n",
      "Jugador elige: papel\n",
      "¡La computadora gana esta ronda!\n",
      "Puntos - Jugador: 0 | Computadora: 2\n",
      "\n",
      "\n",
      "Computadora eligió: tijera\n",
      "Jugador elige: tijera\n",
      "¡Es un empate!\n",
      "Puntos - Jugador: 0 | Computadora: 2\n",
      "\n",
      "¡Juego terminado! Hasta la próxima.\n",
      "¡GAME OVER!\n"
     ]
    }
   ],
   "source": [
    "jugar () # llamada a la funcion para jugar"
   ]
  },
  {
   "cell_type": "markdown",
   "metadata": {},
   "source": [
    "Reglas del Juego \"Piedra, Papel y Tijera\":\n",
    "\n",
    "    - Dos jugadores eligen una de las tres opciones: \"Piedra\", \"Papel\" o \"Tijera\".\n",
    "\n",
    "    - Las reglas para determinar al ganador son:\n",
    "        \n",
    "        - Piedra vence a Tijera.\n",
    "\n",
    "        - Tijera vence a Papel.\n",
    "\n",
    "        - Papel vence a Piedra.\n",
    "\n",
    "        - El jugador que gana una ronda obtiene un punto.\n",
    "        \n",
    "        - El juego continúa hasta que un jugador haya acumulado 3 puntos, convirtiéndose en el ganador.\n",
    "\n",
    "\n",
    "- Pistas para las alumnas:\n",
    "\n",
    "    1. Comienza por definir el número de puntos objetivo que se deben alcanzar para ganar el juego.\n",
    "\n",
    "    2. Implementa una función que obtenga la elección del jugador y valide que sea una de las opciones válidas (\"Piedra\", \"Papel\" o \"Tijera\").\n",
    "\n",
    "    3. Utiliza un bucle `while` para llevar un registro de los puntos de cada jugador y continuar el juego hasta que se alcance el número de puntos objetivo.\n",
    "\n",
    "    4. Genera una elección aleatoria para el segundo jugador (la computadora) utilizando el módulo `random`.\n",
    "\n",
    "    5. Determina al ganador de cada ronda y actualiza los puntos correspondientes.\n",
    "\n",
    "    6. Verifica si algún jugador ha alcanzado el número de puntos objetivo y finalicen el juego cuando eso suceda."
   ]
  }
 ],
 "metadata": {
  "kernelspec": {
   "display_name": "base",
   "language": "python",
   "name": "python3"
  },
  "language_info": {
   "codemirror_mode": {
    "name": "ipython",
    "version": 3
   },
   "file_extension": ".py",
   "mimetype": "text/x-python",
   "name": "python",
   "nbconvert_exporter": "python",
   "pygments_lexer": "ipython3",
   "version": "3.12.7"
  }
 },
 "nbformat": 4,
 "nbformat_minor": 2
}
